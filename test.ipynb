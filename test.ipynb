{
 "cells": [
  {
   "cell_type": "markdown",
   "metadata": {},
   "source": [
    "# Jupyter notebook tutorial\n",
    "\n",
    "## This is a markdown level 2 line"
   ]
  },
  {
   "cell_type": "code",
   "execution_count": 38,
   "metadata": {
    "collapsed": false
   },
   "outputs": [
    {
     "data": {
      "text/html": [
       "<iframe width=\"420\" height=\"315\"\n",
       "src=\"https://www.youtube.com/embed/HW29067qVWk\">\n",
       "</iframe>"
      ],
      "text/plain": [
       "<IPython.core.display.HTML object>"
      ]
     },
     "metadata": {},
     "output_type": "display_data"
    }
   ],
   "source": [
    "%%HTML\n",
    "<iframe width=\"420\" height=\"315\"\n",
    "src=\"https://www.youtube.com/embed/HW29067qVWk\">\n",
    "</iframe>"
   ]
  },
  {
   "cell_type": "code",
   "execution_count": 16,
   "metadata": {
    "collapsed": false
   },
   "outputs": [],
   "source": [
    "name = \"John\""
   ]
  },
  {
   "cell_type": "code",
   "execution_count": 17,
   "metadata": {
    "collapsed": false
   },
   "outputs": [
    {
     "data": {
      "text/plain": [
       "'John'"
      ]
     },
     "execution_count": 17,
     "metadata": {},
     "output_type": "execute_result"
    }
   ],
   "source": [
    "name"
   ]
  },
  {
   "cell_type": "code",
   "execution_count": 19,
   "metadata": {
    "collapsed": false
   },
   "outputs": [],
   "source": [
    "name = 'Correy'"
   ]
  },
  {
   "cell_type": "code",
   "execution_count": 21,
   "metadata": {
    "collapsed": false
   },
   "outputs": [
    {
     "name": "stdout",
     "output_type": "stream",
     "text": [
      "Correy\n"
     ]
    }
   ],
   "source": [
    "print(name)"
   ]
  },
  {
   "cell_type": "code",
   "execution_count": 23,
   "metadata": {
    "collapsed": false
   },
   "outputs": [
    {
     "name": "stdout",
     "output_type": "stream",
     "text": [
      "This is a bash command now.\n",
      "\u001b[31mDEPRECATION: The default format will switch to columns in the future. You can use --format=(legacy|columns) (or define a format=(legacy|columns) in your pip.conf under the [list] section) to disable this warning.\u001b[0m\n",
      "alabaster (0.7.9)\n",
      "anaconda-clean (1.0)\n",
      "anaconda-client (1.5.1)\n",
      "anaconda-navigator (1.3.1)\n",
      "argcomplete (1.0.0)\n",
      "astroid (1.4.7)\n",
      "astropy (1.2.1)\n",
      "Babel (2.3.4)\n",
      "backports.shutil-get-terminal-size (1.0.0)\n",
      "beautifulsoup4 (4.5.1)\n",
      "bitarray (0.8.1)\n",
      "blaze (0.10.1)\n",
      "bokeh (0.12.2)\n",
      "boto (2.42.0)\n",
      "Bottleneck (1.1.0)\n",
      "cffi (1.7.0)\n",
      "chest (0.2.3)\n",
      "click (6.6)\n",
      "cloudpickle (0.2.1)\n",
      "clyent (1.2.2)\n",
      "colorama (0.3.7)\n",
      "conda (4.2.12)\n",
      "conda-build (2.0.2)\n",
      "configobj (5.0.6)\n",
      "contextlib2 (0.5.3)\n",
      "cryptography (1.5)\n",
      "cycler (0.10.0)\n",
      "Cython (0.24.1)\n",
      "cytoolz (0.8.0)\n",
      "dask (0.11.0)\n",
      "datashape (0.5.2)\n",
      "decorator (4.0.10)\n",
      "dill (0.2.5)\n",
      "docutils (0.12)\n",
      "dynd (0.7.3.dev1)\n",
      "et-xmlfile (1.0.1)\n",
      "fastcache (1.0.2)\n",
      "filelock (2.0.6)\n",
      "Flask (0.11.1)\n",
      "Flask-Cors (2.1.2)\n",
      "gevent (1.1.2)\n",
      "greenlet (0.4.10)\n",
      "h5py (2.6.0)\n",
      "HeapDict (1.0.0)\n",
      "idna (2.1)\n",
      "imagesize (0.7.1)\n",
      "ipykernel (4.5.0)\n",
      "ipython (5.1.0)\n",
      "ipython-genutils (0.1.0)\n",
      "ipywidgets (5.2.2)\n",
      "itsdangerous (0.24)\n",
      "jdcal (1.2)\n",
      "jedi (0.9.0)\n",
      "Jinja2 (2.8)\n",
      "jsonschema (2.5.1)\n",
      "jupyter (1.0.0)\n",
      "jupyter-client (4.4.0)\n",
      "jupyter-console (5.0.0)\n",
      "jupyter-core (4.2.0)\n",
      "lazy-object-proxy (1.2.1)\n",
      "llvmlite (0.13.0)\n",
      "locket (0.2.0)\n",
      "lxml (3.6.4)\n",
      "MarkupSafe (0.23)\n",
      "matplotlib (1.5.3)\n",
      "mistune (0.7.3)\n",
      "mpmath (0.19)\n",
      "multipledispatch (0.4.8)\n",
      "nb-anacondacloud (1.2.0)\n",
      "nb-conda (2.0.0)\n",
      "nb-conda-kernels (2.0.0)\n",
      "nbconvert (4.2.0)\n",
      "nbformat (4.1.0)\n",
      "nbpresent (3.0.2)\n",
      "networkx (1.11)\n",
      "nltk (3.2.1)\n",
      "nose (1.3.7)\n",
      "notebook (4.2.3)\n",
      "numba (0.28.1)\n",
      "numexpr (2.6.1)\n",
      "numpy (1.11.1)\n",
      "odo (0.5.0)\n",
      "openpyxl (2.3.2)\n",
      "pandas (0.18.1)\n",
      "partd (0.3.6)\n",
      "path.py (0.0.0)\n",
      "pathlib2 (2.1.0)\n",
      "patsy (0.4.1)\n",
      "pep8 (1.7.0)\n",
      "pexpect (4.0.1)\n",
      "pickleshare (0.7.4)\n",
      "Pillow (3.3.1)\n",
      "pip (9.0.1)\n",
      "pkginfo (1.3.2)\n",
      "ply (3.9)\n",
      "prompt-toolkit (1.0.3)\n",
      "psutil (4.3.1)\n",
      "ptyprocess (0.5.1)\n",
      "py (1.4.31)\n",
      "pyasn1 (0.1.9)\n",
      "pycosat (0.6.1)\n",
      "pycparser (2.14)\n",
      "pycrypto (2.6.1)\n",
      "pycurl (7.43.0)\n",
      "pyflakes (1.3.0)\n",
      "Pygments (2.1.3)\n",
      "pylint (1.5.4)\n",
      "pyOpenSSL (16.0.0)\n",
      "pyparsing (2.1.4)\n",
      "pytest (2.9.2)\n",
      "python-dateutil (2.5.3)\n",
      "pytz (2016.6.1)\n",
      "PyYAML (3.12)\n",
      "pyzmq (15.4.0)\n",
      "QtAwesome (0.3.3)\n",
      "qtconsole (4.2.1)\n",
      "QtPy (1.1.2)\n",
      "redis (2.10.5)\n",
      "requests (2.11.1)\n",
      "rope-py3k (0.9.4.post1)\n",
      "ruamel-yaml (-VERSION)\n",
      "scikit-image (0.12.3)\n",
      "scikit-learn (0.17.1)\n",
      "scipy (0.18.1)\n",
      "setuptools (27.2.0)\n",
      "simplegeneric (0.8.1)\n",
      "singledispatch (3.4.0.3)\n",
      "six (1.10.0)\n",
      "snowballstemmer (1.2.1)\n",
      "sockjs-tornado (1.0.3)\n",
      "Sphinx (1.4.6)\n",
      "spyder (3.0.0)\n",
      "SQLAlchemy (1.0.13)\n",
      "statsmodels (0.6.1)\n",
      "sympy (1.0)\n",
      "tables (3.2.3.1)\n",
      "terminado (0.6)\n",
      "toolz (0.8.0)\n",
      "tornado (4.4.1)\n",
      "traitlets (4.3.0)\n",
      "unicodecsv (0.14.1)\n",
      "virtualenv (15.0.3)\n",
      "wcwidth (0.1.7)\n",
      "Werkzeug (0.11.11)\n",
      "wheel (0.29.0)\n",
      "widgetsnbextension (1.2.6)\n",
      "wrapt (1.10.6)\n",
      "xlrd (1.0.0)\n",
      "XlsxWriter (0.9.3)\n",
      "xlwt (1.1.2)\n"
     ]
    }
   ],
   "source": [
    "!echo \"This is a bash command now.\"\n",
    "!pip list"
   ]
  },
  {
   "cell_type": "code",
   "execution_count": 26,
   "metadata": {
    "collapsed": false
   },
   "outputs": [
    {
     "name": "stdout",
     "output_type": "stream",
     "text": [
      "See list of ipython magic commands\r\n"
     ]
    },
    {
     "data": {
      "application/json": {
       "cell": {
        "!": "OSMagics",
        "HTML": "Other",
        "SVG": "Other",
        "bash": "Other",
        "capture": "ExecutionMagics",
        "debug": "ExecutionMagics",
        "file": "Other",
        "html": "DisplayMagics",
        "javascript": "DisplayMagics",
        "js": "DisplayMagics",
        "latex": "DisplayMagics",
        "perl": "Other",
        "prun": "ExecutionMagics",
        "pypy": "Other",
        "python": "Other",
        "python2": "Other",
        "python3": "Other",
        "ruby": "Other",
        "script": "ScriptMagics",
        "sh": "Other",
        "svg": "DisplayMagics",
        "sx": "OSMagics",
        "system": "OSMagics",
        "time": "ExecutionMagics",
        "timeit": "ExecutionMagics",
        "writefile": "OSMagics"
       },
       "line": {
        "alias": "OSMagics",
        "alias_magic": "BasicMagics",
        "autocall": "AutoMagics",
        "automagic": "AutoMagics",
        "autosave": "KernelMagics",
        "bookmark": "OSMagics",
        "cat": "Other",
        "cd": "OSMagics",
        "clear": "KernelMagics",
        "colors": "BasicMagics",
        "config": "ConfigMagics",
        "connect_info": "KernelMagics",
        "cp": "Other",
        "debug": "ExecutionMagics",
        "dhist": "OSMagics",
        "dirs": "OSMagics",
        "doctest_mode": "BasicMagics",
        "ed": "Other",
        "edit": "KernelMagics",
        "env": "OSMagics",
        "gui": "BasicMagics",
        "hist": "Other",
        "history": "HistoryMagics",
        "killbgscripts": "ScriptMagics",
        "ldir": "Other",
        "less": "KernelMagics",
        "lf": "Other",
        "lk": "Other",
        "ll": "Other",
        "load": "CodeMagics",
        "load_ext": "ExtensionMagics",
        "loadpy": "CodeMagics",
        "logoff": "LoggingMagics",
        "logon": "LoggingMagics",
        "logstart": "LoggingMagics",
        "logstate": "LoggingMagics",
        "logstop": "LoggingMagics",
        "ls": "Other",
        "lsmagic": "BasicMagics",
        "lx": "Other",
        "macro": "ExecutionMagics",
        "magic": "BasicMagics",
        "man": "KernelMagics",
        "matplotlib": "PylabMagics",
        "mkdir": "Other",
        "more": "KernelMagics",
        "mv": "Other",
        "notebook": "BasicMagics",
        "page": "BasicMagics",
        "pastebin": "CodeMagics",
        "pdb": "ExecutionMagics",
        "pdef": "NamespaceMagics",
        "pdoc": "NamespaceMagics",
        "pfile": "NamespaceMagics",
        "pinfo": "NamespaceMagics",
        "pinfo2": "NamespaceMagics",
        "popd": "OSMagics",
        "pprint": "BasicMagics",
        "precision": "BasicMagics",
        "profile": "BasicMagics",
        "prun": "ExecutionMagics",
        "psearch": "NamespaceMagics",
        "psource": "NamespaceMagics",
        "pushd": "OSMagics",
        "pwd": "OSMagics",
        "pycat": "OSMagics",
        "pylab": "PylabMagics",
        "qtconsole": "KernelMagics",
        "quickref": "BasicMagics",
        "recall": "HistoryMagics",
        "rehashx": "OSMagics",
        "reload_ext": "ExtensionMagics",
        "rep": "Other",
        "rerun": "HistoryMagics",
        "reset": "NamespaceMagics",
        "reset_selective": "NamespaceMagics",
        "rm": "Other",
        "rmdir": "Other",
        "run": "ExecutionMagics",
        "save": "CodeMagics",
        "sc": "OSMagics",
        "set_env": "OSMagics",
        "store": "StoreMagics",
        "sx": "OSMagics",
        "system": "OSMagics",
        "tb": "ExecutionMagics",
        "time": "ExecutionMagics",
        "timeit": "ExecutionMagics",
        "unalias": "OSMagics",
        "unload_ext": "ExtensionMagics",
        "who": "NamespaceMagics",
        "who_ls": "NamespaceMagics",
        "whos": "NamespaceMagics",
        "xdel": "NamespaceMagics",
        "xmode": "BasicMagics"
       }
      },
      "text/plain": [
       "Available line magics:\n",
       "%alias  %alias_magic  %autocall  %automagic  %autosave  %bookmark  %cat  %cd  %clear  %colors  %config  %connect_info  %cp  %debug  %dhist  %dirs  %doctest_mode  %ed  %edit  %env  %gui  %hist  %history  %killbgscripts  %ldir  %less  %lf  %lk  %ll  %load  %load_ext  %loadpy  %logoff  %logon  %logstart  %logstate  %logstop  %ls  %lsmagic  %lx  %macro  %magic  %man  %matplotlib  %mkdir  %more  %mv  %notebook  %page  %pastebin  %pdb  %pdef  %pdoc  %pfile  %pinfo  %pinfo2  %popd  %pprint  %precision  %profile  %prun  %psearch  %psource  %pushd  %pwd  %pycat  %pylab  %qtconsole  %quickref  %recall  %rehashx  %reload_ext  %rep  %rerun  %reset  %reset_selective  %rm  %rmdir  %run  %save  %sc  %set_env  %store  %sx  %system  %tb  %time  %timeit  %unalias  %unload_ext  %who  %who_ls  %whos  %xdel  %xmode\n",
       "\n",
       "Available cell magics:\n",
       "%%!  %%HTML  %%SVG  %%bash  %%capture  %%debug  %%file  %%html  %%javascript  %%js  %%latex  %%perl  %%prun  %%pypy  %%python  %%python2  %%python3  %%ruby  %%script  %%sh  %%svg  %%sx  %%system  %%time  %%timeit  %%writefile\n",
       "\n",
       "Automagic is ON, % prefix IS NOT needed for line magics."
      ]
     },
     "execution_count": 26,
     "metadata": {},
     "output_type": "execute_result"
    }
   ],
   "source": [
    "!echo \"See list of ipython magic commands\"\n",
    "%lsmagic"
   ]
  },
  {
   "cell_type": "code",
   "execution_count": 35,
   "metadata": {
    "collapsed": false
   },
   "outputs": [],
   "source": [
    "%matplotlib inline"
   ]
  },
  {
   "cell_type": "code",
   "execution_count": 36,
   "metadata": {
    "collapsed": false,
    "scrolled": true
   },
   "outputs": [
    {
     "data": {
      "image/png": "[encoded data removed]",
      "text/plain": [
       "<matplotlib.figure.Figure at 0x7f9e440a9518>"
      ]
     },
     "metadata": {},
     "output_type": "display_data"
    }
   ],
   "source": [
    "import numpy as np\n",
    "import matplotlib.pyplot as plt\n",
    "\n",
    "N = 50\n",
    "x = np.random.random(N)\n",
    "y = np.random.rand(N)\n",
    "colors = np.random.rand(N)\n",
    "area = np.pi * (15 * np.random.rand(N))**2 #\n",
    "\n",
    "plt.scatter(x,y, s=area, c=colors, alpha=0.5)\n",
    "plt.show()"
   ]
  }
 ],
 "metadata": {
  "kernelspec": {
   "display_name": "Python [conda root]",
   "language": "python",
   "name": "conda-root-py"
  },
  "language_info": {
   "codemirror_mode": {
    "name": "ipython",
    "version": 3
   },
   "file_extension": ".py",
   "mimetype": "text/x-python",
   "name": "python",
   "nbconvert_exporter": "python",
   "pygments_lexer": "ipython3",
   "version": "3.5.2"
  }
 },
 "nbformat": 4,
 "nbformat_minor": 1
}
